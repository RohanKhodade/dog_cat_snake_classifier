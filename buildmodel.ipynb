{
 "cells": [
  {
   "cell_type": "code",
   "execution_count": 2,
   "metadata": {},
   "outputs": [],
   "source": [
    "import tensorflow as tf\n",
    "from tensorflow import keras\n",
    "from tensorflow.keras.preprocessing import image\n",
    "from tensorflow.keras.preprocessing.image import ImageDataGenerator\n",
    "from keras.layers import Conv2D,Dropout,MaxPooling2D,Flatten,Dense\n",
    "from keras import Sequential"
   ]
  },
  {
   "cell_type": "code",
   "execution_count": 3,
   "metadata": {},
   "outputs": [],
   "source": [
    "import matplotlib.pyplot as plt\n",
    "import numpy as np\n",
    "import pandas as pd"
   ]
  },
  {
   "cell_type": "code",
   "execution_count": 4,
   "metadata": {},
   "outputs": [],
   "source": [
    "train_datagen=ImageDataGenerator(rescale=1.0/255)\n",
    "validation_datagen=ImageDataGenerator(rescale=1.0/255)"
   ]
  },
  {
   "cell_type": "code",
   "execution_count": 5,
   "metadata": {},
   "outputs": [
    {
     "name": "stdout",
     "output_type": "stream",
     "text": [
      "Found 3000 images belonging to 3 classes.\n",
      "Found 780 images belonging to 3 classes.\n"
     ]
    }
   ],
   "source": [
    "train_set=train_datagen.flow_from_directory(r\"C:\\Users\\HP\\OneDrive\\Desktop\\Computer Vision\\Animal Classification\\train\",\n",
    "                                            batch_size=32,\n",
    "                                            target_size=(256,256),\n",
    "                                            class_mode=\"categorical\")\n",
    "validation_set=validation_datagen.flow_from_directory(r\"C:\\Users\\HP\\OneDrive\\Desktop\\Computer Vision\\Animal Classification\\test\",\n",
    "                                                      target_size=(256,256),\n",
    "                                                      batch_size=32,\n",
    "                                                      class_mode=\"categorical\")"
   ]
  },
  {
   "cell_type": "code",
   "execution_count": 6,
   "metadata": {},
   "outputs": [
    {
     "name": "stdout",
     "output_type": "stream",
     "text": [
      "Model: \"sequential\"\n",
      "_________________________________________________________________\n",
      " Layer (type)                Output Shape              Param #   \n",
      "=================================================================\n",
      " conv2d (Conv2D)             (None, 254, 254, 32)      896       \n",
      "                                                                 \n",
      " max_pooling2d (MaxPooling2D  (None, 127, 127, 32)     0         \n",
      " )                                                               \n",
      "                                                                 \n",
      " conv2d_1 (Conv2D)           (None, 125, 125, 64)      18496     \n",
      "                                                                 \n",
      " max_pooling2d_1 (MaxPooling  (None, 62, 62, 64)       0         \n",
      " 2D)                                                             \n",
      "                                                                 \n",
      " conv2d_2 (Conv2D)           (None, 60, 60, 128)       73856     \n",
      "                                                                 \n",
      " max_pooling2d_2 (MaxPooling  (None, 30, 30, 128)      0         \n",
      " 2D)                                                             \n",
      "                                                                 \n",
      " flatten (Flatten)           (None, 115200)            0         \n",
      "                                                                 \n",
      " dense (Dense)               (None, 128)               14745728  \n",
      "                                                                 \n",
      " dropout (Dropout)           (None, 128)               0         \n",
      "                                                                 \n",
      " dense_1 (Dense)             (None, 64)                8256      \n",
      "                                                                 \n",
      " dropout_1 (Dropout)         (None, 64)                0         \n",
      "                                                                 \n",
      " dense_2 (Dense)             (None, 3)                 195       \n",
      "                                                                 \n",
      "=================================================================\n",
      "Total params: 14,847,427\n",
      "Trainable params: 14,847,427\n",
      "Non-trainable params: 0\n",
      "_________________________________________________________________\n"
     ]
    }
   ],
   "source": [
    "model=Sequential()\n",
    "\n",
    "model.add(Conv2D(32,(3,3),activation=\"relu\",input_shape=(256,256,3))),\n",
    "model.add(MaxPooling2D(2,2)),\n",
    "\n",
    "model.add(Conv2D(64,(3,3),activation=\"relu\")),\n",
    "model.add(MaxPooling2D(2,2)),\n",
    "\n",
    "model.add(Conv2D(128,(3,3),activation=\"relu\")),\n",
    "model.add(MaxPooling2D(2,2)),\n",
    "\n",
    "#model.add(Conv2D(128,(3,3),activation=\"relu\")),\n",
    "#model.add(MaxPooling2D(2,2)),\n",
    "\n",
    "model.add(Flatten()),\n",
    "\n",
    "model.add(Dense(128,activation=\"relu\")),\n",
    "model.add(Dropout(0.15)),\n",
    "\n",
    "model.add(Dense(64,activation=\"relu\")),\n",
    "model.add(Dropout(0.05)),\n",
    "\n",
    "model.add(Dense(3,activation=\"softmax\"))\n",
    "\n",
    "\n",
    "model.compile(loss=\"categorical_crossentropy\",optimizer=\"adam\",metrics=[\"accuracy\"])\n",
    "\n",
    "\n",
    "model.summary()\n",
    "\n"
   ]
  },
  {
   "cell_type": "code",
   "execution_count": 7,
   "metadata": {},
   "outputs": [
    {
     "name": "stdout",
     "output_type": "stream",
     "text": [
      "Epoch 1/30\n",
      "94/94 [==============================] - 41s 331ms/step - loss: 0.9855 - accuracy: 0.5520 - val_loss: 0.7818 - val_accuracy: 0.5859\n",
      "Epoch 2/30\n",
      "94/94 [==============================] - 16s 172ms/step - loss: 0.7516 - accuracy: 0.6233 - val_loss: 0.6094 - val_accuracy: 0.7410\n",
      "Epoch 3/30\n",
      "94/94 [==============================] - 16s 172ms/step - loss: 0.6242 - accuracy: 0.7117 - val_loss: 0.4947 - val_accuracy: 0.8077\n",
      "Epoch 4/30\n",
      "94/94 [==============================] - 16s 172ms/step - loss: 0.5014 - accuracy: 0.7937 - val_loss: 0.3315 - val_accuracy: 0.8846\n",
      "Epoch 5/30\n",
      "94/94 [==============================] - 16s 171ms/step - loss: 0.3384 - accuracy: 0.8670 - val_loss: 0.1764 - val_accuracy: 0.9500\n",
      "Epoch 6/30\n",
      "94/94 [==============================] - 16s 170ms/step - loss: 0.1904 - accuracy: 0.9283 - val_loss: 0.1077 - val_accuracy: 0.9731\n",
      "Epoch 7/30\n",
      "94/94 [==============================] - 16s 172ms/step - loss: 0.1195 - accuracy: 0.9583 - val_loss: 0.0455 - val_accuracy: 0.9885\n",
      "Epoch 8/30\n",
      "94/94 [==============================] - 16s 172ms/step - loss: 0.0745 - accuracy: 0.9753 - val_loss: 0.0363 - val_accuracy: 0.9923\n",
      "Epoch 9/30\n",
      "94/94 [==============================] - 16s 173ms/step - loss: 0.0426 - accuracy: 0.9857 - val_loss: 0.0182 - val_accuracy: 0.9974\n",
      "Epoch 10/30\n",
      "94/94 [==============================] - 16s 173ms/step - loss: 0.0591 - accuracy: 0.9773 - val_loss: 0.0215 - val_accuracy: 0.9949\n",
      "Epoch 11/30\n",
      "94/94 [==============================] - 16s 174ms/step - loss: 0.0433 - accuracy: 0.9870 - val_loss: 0.0214 - val_accuracy: 0.9949\n",
      "Epoch 12/30\n",
      "94/94 [==============================] - 17s 177ms/step - loss: 0.0449 - accuracy: 0.9850 - val_loss: 0.0057 - val_accuracy: 0.9987\n",
      "Epoch 13/30\n",
      "94/94 [==============================] - 16s 174ms/step - loss: 0.0357 - accuracy: 0.9900 - val_loss: 0.0122 - val_accuracy: 0.9987\n",
      "Epoch 14/30\n",
      "94/94 [==============================] - 16s 174ms/step - loss: 0.0191 - accuracy: 0.9933 - val_loss: 0.0043 - val_accuracy: 0.9987\n",
      "Epoch 15/30\n",
      "94/94 [==============================] - 16s 174ms/step - loss: 0.0531 - accuracy: 0.9857 - val_loss: 0.0430 - val_accuracy: 0.9885\n",
      "Epoch 16/30\n",
      "94/94 [==============================] - 16s 173ms/step - loss: 0.1031 - accuracy: 0.9673 - val_loss: 0.0089 - val_accuracy: 1.0000\n",
      "Epoch 17/30\n",
      "94/94 [==============================] - 16s 172ms/step - loss: 0.0162 - accuracy: 0.9957 - val_loss: 0.0026 - val_accuracy: 1.0000\n",
      "Epoch 18/30\n",
      "94/94 [==============================] - 16s 173ms/step - loss: 0.0252 - accuracy: 0.9923 - val_loss: 0.0047 - val_accuracy: 0.9987\n",
      "Epoch 19/30\n",
      "94/94 [==============================] - 16s 174ms/step - loss: 0.0162 - accuracy: 0.9950 - val_loss: 0.0028 - val_accuracy: 0.9987\n",
      "Epoch 20/30\n",
      "94/94 [==============================] - 16s 173ms/step - loss: 0.0105 - accuracy: 0.9970 - val_loss: 0.0032 - val_accuracy: 0.9987\n",
      "Epoch 21/30\n",
      "94/94 [==============================] - 17s 175ms/step - loss: 0.0444 - accuracy: 0.9843 - val_loss: 0.0140 - val_accuracy: 0.9949\n",
      "Epoch 22/30\n",
      "94/94 [==============================] - 16s 175ms/step - loss: 0.0117 - accuracy: 0.9963 - val_loss: 9.7985e-04 - val_accuracy: 1.0000\n",
      "Epoch 23/30\n",
      "94/94 [==============================] - 16s 174ms/step - loss: 0.0068 - accuracy: 0.9983 - val_loss: 6.6956e-04 - val_accuracy: 1.0000\n",
      "Epoch 24/30\n",
      "94/94 [==============================] - 16s 169ms/step - loss: 0.0015 - accuracy: 1.0000 - val_loss: 2.5798e-04 - val_accuracy: 1.0000\n",
      "Epoch 25/30\n",
      "94/94 [==============================] - 16s 173ms/step - loss: 9.0196e-04 - accuracy: 1.0000 - val_loss: 1.1424e-04 - val_accuracy: 1.0000\n",
      "Epoch 26/30\n",
      "94/94 [==============================] - 17s 182ms/step - loss: 0.0018 - accuracy: 0.9997 - val_loss: 9.9344e-05 - val_accuracy: 1.0000\n",
      "Epoch 27/30\n",
      "94/94 [==============================] - 17s 182ms/step - loss: 0.0516 - accuracy: 0.9860 - val_loss: 0.0500 - val_accuracy: 0.9872\n",
      "Epoch 28/30\n",
      "94/94 [==============================] - 17s 177ms/step - loss: 0.0489 - accuracy: 0.9850 - val_loss: 0.0063 - val_accuracy: 0.9987\n",
      "Epoch 29/30\n",
      "94/94 [==============================] - 16s 173ms/step - loss: 0.0138 - accuracy: 0.9963 - val_loss: 0.0144 - val_accuracy: 0.9936\n",
      "Epoch 30/30\n",
      "94/94 [==============================] - 16s 173ms/step - loss: 0.0272 - accuracy: 0.9917 - val_loss: 0.0029 - val_accuracy: 0.9987\n"
     ]
    }
   ],
   "source": [
    "history=model.fit(train_set,epochs=30,validation_data=validation_set)"
   ]
  },
  {
   "cell_type": "code",
   "execution_count": 8,
   "metadata": {},
   "outputs": [],
   "source": [
    "import matplotlib.pyplot as plt"
   ]
  },
  {
   "cell_type": "code",
   "execution_count": 9,
   "metadata": {},
   "outputs": [
    {
     "data": {
      "text/plain": [
       "[<matplotlib.lines.Line2D at 0x1d105a94460>]"
      ]
     },
     "execution_count": 9,
     "metadata": {},
     "output_type": "execute_result"
    },
    {
     "data": {
      "image/png": "[encoded data removed]",
      "text/plain": [
       "<Figure size 640x480 with 1 Axes>"
      ]
     },
     "metadata": {},
     "output_type": "display_data"
    }
   ],
   "source": [
    "plt.plot(history.history[\"loss\"])\n",
    "plt.plot(history.history[\"val_loss\"])"
   ]
  },
  {
   "cell_type": "code",
   "execution_count": 10,
   "metadata": {},
   "outputs": [
    {
     "data": {
      "text/plain": [
       "[<matplotlib.lines.Line2D at 0x1d105c79330>]"
      ]
     },
     "execution_count": 10,
     "metadata": {},
     "output_type": "execute_result"
    },
    {
     "data": {
      "image/png": "[encoded data removed]",
      "text/plain": [
       "<Figure size 640x480 with 1 Axes>"
      ]
     },
     "metadata": {},
     "output_type": "display_data"
    }
   ],
   "source": [
    "plt.plot(history.history[\"accuracy\"])\n",
    "plt.plot(history.history[\"val_accuracy\"])"
   ]
  },
  {
   "cell_type": "code",
   "execution_count": 11,
   "metadata": {},
   "outputs": [],
   "source": [
    "from tensorflow.keras.models import save_model"
   ]
  },
  {
   "cell_type": "code",
   "execution_count": 12,
   "metadata": {},
   "outputs": [],
   "source": [
    "model.save(\"dog_cat_snake_classifier.h5\")"
   ]
  },
  {
   "cell_type": "code",
   "execution_count": null,
   "metadata": {},
   "outputs": [],
   "source": []
  }
 ],
 "metadata": {
  "kernelspec": {
   "display_name": ".venv",
   "language": "python",
   "name": "python3"
  },
  "language_info": {
   "codemirror_mode": {
    "name": "ipython",
    "version": 3
   },
   "file_extension": ".py",
   "mimetype": "text/x-python",
   "name": "python",
   "nbconvert_exporter": "python",
   "pygments_lexer": "ipython3",
   "version": "3.10.0"
  }
 },
 "nbformat": 4,
 "nbformat_minor": 2
}
